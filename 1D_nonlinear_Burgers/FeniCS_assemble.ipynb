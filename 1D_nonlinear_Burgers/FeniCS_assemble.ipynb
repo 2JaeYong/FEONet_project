{
 "cells": [
  {
   "cell_type": "code",
   "execution_count": 1,
   "id": "a6532221",
   "metadata": {},
   "outputs": [],
   "source": [
    "import os\n",
    "os.environ[\"PKG_CONFIG_PATH\"] = \"/home/jaeyonglee/anaconda3/envs/fenics/lib/pkgconfig\""
   ]
  },
  {
   "cell_type": "code",
   "execution_count": 2,
   "id": "e16e0bc8",
   "metadata": {
    "executionInfo": {
     "elapsed": 4542,
     "status": "ok",
     "timestamp": 1712026818659,
     "user": {
      "displayName": "이재용",
      "userId": "11888730461725400038"
     },
     "user_tz": -540
    },
    "id": "e16e0bc8",
    "scrolled": true
   },
   "outputs": [],
   "source": [
    "import numpy as np\n",
    "import scipy\n",
    "from scipy import io\n",
    "import matplotlib.pyplot as plt\n",
    "from mpl_toolkits.mplot3d import Axes3D\n",
    "from tqdm import tqdm\n",
    "import torch"
   ]
  },
  {
   "cell_type": "code",
   "execution_count": 3,
   "id": "PCIxfBEyw03M",
   "metadata": {
    "executionInfo": {
     "elapsed": 13,
     "status": "ok",
     "timestamp": 1712026818659,
     "user": {
      "displayName": "이재용",
      "userId": "11888730461725400038"
     },
     "user_tz": -540
    },
    "id": "PCIxfBEyw03M"
   },
   "outputs": [],
   "source": [
    "import dolfin\n",
    "from dolfin import *\n",
    "from mshr import *"
   ]
  },
  {
   "cell_type": "markdown",
   "id": "ab5baf74",
   "metadata": {},
   "source": [
    "### 1D burgers equation"
   ]
  },
  {
   "cell_type": "markdown",
   "id": "a3770e81",
   "metadata": {},
   "source": [
    "#### Learning the solution operator $\\mathcal{G}:f(x)\\mapsto u(x)$ for\n",
    "##### $-0.1u_{xx}+uu_x=f(x)$, $x\\in[-1,1]$,\n",
    "##### $u(x)=0$, $x\\in\\{-1,1\\}$."
   ]
  },
  {
   "cell_type": "code",
   "execution_count": 4,
   "id": "464bbb7b",
   "metadata": {},
   "outputs": [
    {
     "name": "stdout",
     "output_type": "stream",
     "text": [
      "Setting num :128 // Num Element : 128\n"
     ]
    },
    {
     "data": {
      "image/png": "[encoded data removed]",
      "text/plain": [
       "<Figure size 640x480 with 1 Axes>"
      ]
     },
     "metadata": {},
     "output_type": "display_data"
    }
   ],
   "source": [
    "num_x=128\n",
    "mesh = IntervalMesh(num_x,-1,1)\n",
    "plot(mesh)\n",
    "print(\"Setting num :{} // Num Element : {}\".format(num_x, mesh.cells().shape[0]))"
   ]
  },
  {
   "cell_type": "code",
   "execution_count": 5,
   "id": "88f60753",
   "metadata": {},
   "outputs": [],
   "source": [
    "def fenics_mesh(num_x, num_input, deg_v, deg_f=5):\n",
    "  mesh = IntervalMesh(num_x,-1,1)\n",
    "  V = FunctionSpace(mesh, \"Lagrange\", deg_v)\n",
    "  bc = DirichletBC(V, 0, 'on_boundary')\n",
    "\n",
    "  u = TrialFunction(V)\n",
    "  v = TestFunction(V)\n",
    "\n",
    "  a = u.dx(0)*v.dx(0)*dx\n",
    "  A = PETScMatrix()\n",
    "  A = assemble(a)\n",
    "  bc.apply(A)\n",
    "  stiff = A.array()\n",
    "  \n",
    "  train_coeff_fs=[]\n",
    "  train_load_vectors=[]\n",
    "  np.random.seed(5)\n",
    "  for i in range(num_input[0]):\n",
    "    m0, m1 = 3 + 2*np.random.rand(2)\n",
    "    n0, n1= np.pi*(np.random.rand(2))\n",
    "    f = Expression('m0*sin(n0*x[0]) + m1*cos(n1*x[0])', degree=deg_f, m0=m0,m1=m1,n0=n0,n1=n1)\n",
    "    l = f*v*dx\n",
    "    L = assemble(l)\n",
    "    bc.apply(L)\n",
    "    load_vector = L.get_local()\n",
    "    train_coeff_fs.append(np.array([m0, m1, n0, n1]))\n",
    "    train_load_vectors.append(load_vector)\n",
    "  \n",
    "  validate_coeff_fs=[]\n",
    "  validate_load_vectors=[]\n",
    "  np.random.seed(10)\n",
    "  for i in range(num_input[1]):\n",
    "    m0, m1 = 3 + 2*np.random.rand(2)\n",
    "    n0, n1= np.pi*(np.random.rand(2))\n",
    "    f = Expression('m0*sin(n0*x[0]) + m1*cos(n1*x[0])', degree=deg_f, m0=m0,m1=m1,n0=n0,n1=n1)\n",
    "    l = f*v*dx\n",
    "    L = assemble(l)\n",
    "    bc.apply(L)\n",
    "    load_vector = L.get_local()\n",
    "    validate_coeff_fs.append(np.array([m0, m1, n0, n1]))\n",
    "    validate_load_vectors.append(load_vector)\n",
    "\n",
    "  ne=mesh.cells().shape[0]\n",
    "  dofmap = V.dofmap()\n",
    "  p = V.tabulate_dof_coordinates().reshape(-1)\n",
    "  ng = p.shape[0]\n",
    "\n",
    "  c=[]\n",
    "  for i in range(ne):\n",
    "    c.append(dofmap.cell_dofs(i))\n",
    "  c=np.asarray(c)\n",
    "\n",
    "  idx_bdry_pts=list(bc.get_boundary_values().keys())\n",
    "  idx_bdry_pts\n",
    "  \n",
    "  gfl = np.zeros((ng))\n",
    "  gfl[idx_bdry_pts]=1\n",
    "\n",
    "  print(\"Num of Elements : {}, Num of points : {}\".format(ne, ng))\n",
    "  return ne, ng, p, c, gfl, stiff, np.array(train_coeff_fs), np.array(train_load_vectors), np.array(validate_coeff_fs), np.array(validate_load_vectors)\n"
   ]
  },
  {
   "cell_type": "code",
   "execution_count": 6,
   "id": "0b67980e",
   "metadata": {},
   "outputs": [],
   "source": [
    "order=1\n",
    "list_ne=[128,512]\n",
    "num_input=[3000, 3000]\n",
    "typ='burgers'"
   ]
  },
  {
   "cell_type": "code",
   "execution_count": 7,
   "id": "f4ca67c4",
   "metadata": {},
   "outputs": [
    {
     "name": "stdout",
     "output_type": "stream",
     "text": [
      "Num of Elements : 128, Num of points : 129\n",
      "Num of Elements : 512, Num of points : 513\n"
     ]
    }
   ],
   "source": [
    "for idx, ne in enumerate(list_ne):\n",
    "  ne, ng, p, c, gfl, stiff, train_coeff_fs, train_load_vectors, validate_coeff_fs, validate_load_vectors=fenics_mesh(ne, num_input, deg_v=order)\n",
    "  np.savez('mesh/P{}_ne{}_{}.npz'.format(order,list_ne[idx], typ),ne=ne,ng=ng,p=p,c=c,gfl=gfl,stiff=stiff,train_coeff_fs=train_coeff_fs, train_load_vectors=train_load_vectors, validate_coeff_fs=validate_coeff_fs, validate_load_vectors=validate_load_vectors)"
   ]
  },
  {
   "cell_type": "code",
   "execution_count": 8,
   "id": "5f9111a4",
   "metadata": {},
   "outputs": [],
   "source": [
    "def fenics_data(num_x, num_input, deg_v, deg_f=5):\n",
    "  # Set solver parameters to suppress output\n",
    "  parameters[\"std_out_all_processes\"] = False  # Suppress output for parallel runs\n",
    "  set_log_level(LogLevel.ERROR)  # Suppress solver logs\n",
    "  \n",
    "  train_fenics_u=[]\n",
    "  np.random.seed(5)\n",
    "  for i in range(num_input[0]):\n",
    "    mesh = IntervalMesh(num_x,-1,1)\n",
    "    V = FunctionSpace(mesh, \"Lagrange\", deg_v)\n",
    "    EPS = Constant(0.1)\n",
    "    bc = DirichletBC(V, 0, 'on_boundary')\n",
    "\n",
    "    u = Function(V)\n",
    "    v = TestFunction(V)\n",
    "\n",
    "    a = u.dx(0)*v.dx(0)*dx\n",
    "    c = u * u.dx(0)*v*dx\n",
    "\n",
    "    m0, m1 = 3 + 2*np.random.rand(2)\n",
    "    n0, n1= np.pi*(np.random.rand(2))\n",
    "    f = Expression('m0*sin(n0*x[0]) + m1*cos(n1*x[0])', degree=deg_f, m0=m0,m1=m1,n0=n0,n1=n1)\n",
    "    l = f*v*dx\n",
    "    F = EPS*a+c-l\n",
    "    J = derivative ( F, u )\n",
    "    solve ( F == 0, u, bc, J = J )\n",
    "    fenics_u = u.vector().get_local()\n",
    "\n",
    "    p = V.tabulate_dof_coordinates().reshape(-1)\n",
    "    train_fenics_u.append([fenics_u, m0*np.sin(n0*p) + m1*np.cos(n1*p), np.array([m0, m1, n0, n1])])\n",
    "\n",
    "  validate_fenics_u=[]\n",
    "  np.random.seed(10)\n",
    "  for i in range(num_input[1]):\n",
    "    mesh = IntervalMesh(num_x,-1,1)\n",
    "    V = FunctionSpace(mesh, \"Lagrange\", deg_v)\n",
    "    EPS = Constant(0.1)\n",
    "    bc = DirichletBC(V, 0, 'on_boundary')\n",
    "\n",
    "    u = Function(V)\n",
    "    v = TestFunction(V)\n",
    "\n",
    "    a = u.dx(0)*v.dx(0)*dx\n",
    "    c = u * u.dx(0)*v*dx\n",
    "\n",
    "    m0, m1 = 3 + 2*np.random.rand(2)\n",
    "    n0, n1= np.pi*(np.random.rand(2))\n",
    "    f = Expression('m0*sin(n0*x[0]) + m1*cos(n1*x[0])', degree=deg_f, m0=m0,m1=m1,n0=n0,n1=n1)\n",
    "    l = f*v*dx\n",
    "    F = EPS*a+c-l\n",
    "    J = derivative ( F, u )\n",
    "    solve ( F == 0, u, bc, J = J )\n",
    "    fenics_u = u.vector().get_local()\n",
    "\n",
    "    p = V.tabulate_dof_coordinates().reshape(-1)\n",
    "    validate_fenics_u.append([fenics_u, m0*np.sin(n0*p) + m1*np.cos(n1*p), np.array([m0, m1, n0, n1])])\n",
    "\n",
    "  return np.array(train_fenics_u, dtype=object), np.array(validate_fenics_u, dtype=object)\n"
   ]
  },
  {
   "cell_type": "code",
   "execution_count": 9,
   "id": "1b66024d",
   "metadata": {},
   "outputs": [],
   "source": [
    "order=1\n",
    "list_ne=[512]\n",
    "num_input=[3000, 3000]\n",
    "typ='burgers'"
   ]
  },
  {
   "cell_type": "code",
   "execution_count": 10,
   "id": "bf59ef0e",
   "metadata": {},
   "outputs": [],
   "source": [
    "import pickle\n",
    "for idx, ne in enumerate(list_ne):\n",
    "  train_fenics_u,validate_fenics_u = fenics_data(ne, num_input, deg_v=order)\n",
    "  with open('data/train_P{}_{}N{}_{}.pkl'.format(order,num_input[0],list_ne[idx],typ), 'wb') as f:\n",
    "        pickle.dump(train_fenics_u, f, pickle.HIGHEST_PROTOCOL)\n",
    "  with open('data/validate_P{}_{}N{}_{}.pkl'.format(order,num_input[1],list_ne[idx],typ), 'wb') as f:\n",
    "        pickle.dump(validate_fenics_u, f, pickle.HIGHEST_PROTOCOL)"
   ]
  }
 ],
 "metadata": {
  "colab": {
   "provenance": [
    {
     "file_id": "14hcyB7qdFsqk8KYPj8wfBcmSclJW7qww",
     "timestamp": 1710412589815
    },
    {
     "file_id": "1ZicuUlWRavdrkoCAG3yMyYdkPHJwR3px",
     "timestamp": 1710161985590
    },
    {
     "file_id": "1s1NjTU9IsejXTQKOPEfSCLJbN5WzdlmN",
     "timestamp": 1680194315277
    }
   ]
  },
  "kernelspec": {
   "display_name": "fenics",
   "language": "python",
   "name": "python3"
  },
  "language_info": {
   "codemirror_mode": {
    "name": "ipython",
    "version": 3
   },
   "file_extension": ".py",
   "mimetype": "text/x-python",
   "name": "python",
   "nbconvert_exporter": "python",
   "pygments_lexer": "ipython3",
   "version": "3.11.9"
  }
 },
 "nbformat": 4,
 "nbformat_minor": 5
}
