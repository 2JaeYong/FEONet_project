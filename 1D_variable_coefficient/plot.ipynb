{
 "cells": [
  {
   "cell_type": "code",
   "execution_count": 1,
   "id": "dc9abe87",
   "metadata": {},
   "outputs": [],
   "source": [
    "import torch\n",
    "import time\n",
    "import datetime\n",
    "import os\n",
    "import argparse\n",
    "import pickle \n",
    "from torch.utils.data import Dataset, DataLoader\n",
    "import numpy as np\n",
    "import pandas as pd\n",
    "import random\n",
    "import sys\n",
    "sys.path.append(os.path.abspath('..'))\n",
    "from models import *\n",
    "\n",
    "import matplotlib.pyplot as plt\n",
    "import ast"
   ]
  },
  {
   "cell_type": "code",
   "execution_count": 2,
   "id": "962f3050",
   "metadata": {},
   "outputs": [],
   "source": [
    "PATH=\"train/P2_CNN1D_test\"\n",
    "num_gpu='1'"
   ]
  },
  {
   "cell_type": "code",
   "execution_count": 3,
   "id": "3d61df70",
   "metadata": {},
   "outputs": [
    {
     "name": "stdout",
     "output_type": "stream",
     "text": [
      "Is available to use cuda? :  True\n",
      "-> GPU number  1\n"
     ]
    }
   ],
   "source": [
    "gpu_id=str(num_gpu)\n",
    "os.environ['CUDA_VISIBLE_DEVICES'] = gpu_id\n",
    "\n",
    "use_cuda = torch.cuda.is_available()\n",
    "print(\"Is available to use cuda? : \",use_cuda)\n",
    "if use_cuda:\n",
    "    print(\"-> GPU number \",gpu_id)"
   ]
  },
  {
   "cell_type": "code",
   "execution_count": 4,
   "id": "69a688e8",
   "metadata": {},
   "outputs": [
    {
     "name": "stdout",
     "output_type": "stream",
     "text": [
      "{'name': 'experiment', 'seed': 0, 'use_squeue': False, 'gpu': 0, 'type': 'varcoeff', 'num_train_data': 1000, 'num_validate_data': 1000, 'basis_order': 2, 'ne': 32, 'model': 'CNN1D', 'batch_size': None, 'resol_in': None, 'blocks': 4, 'ks': 5, 'filters': 32, 'act': 'silu', 'epochs': 50000, 'do_precond': False, 'train_time': 3826.872931957245, 'nParams': 161217, 'batch_size_train': 1000, 'batch_size_validate': 1000, 'path': 'train/P2_CNN1D_experiment'}\n"
     ]
    }
   ],
   "source": [
    "gparams = {}\n",
    "with open(os.path.join(PATH, \"parameters.txt\"), \"r\") as f:\n",
    "    for line in f:\n",
    "        key, value = line.strip().split(\":\")  \n",
    "        if value.isdigit():  \n",
    "            gparams[key] = int(value)\n",
    "        else:\n",
    "            try:\n",
    "                gparams[key] = ast.literal_eval(value)\n",
    "            except (ValueError, SyntaxError):\n",
    "                gparams[key] = value\n",
    "\n",
    "print(gparams)"
   ]
  },
  {
   "cell_type": "code",
   "execution_count": 5,
   "id": "196e4718",
   "metadata": {},
   "outputs": [],
   "source": [
    "NAME=gparams['name']\n",
    "TYPE = gparams['type']\n",
    "NUM_TRAIN_DATA = gparams['num_train_data']\n",
    "NUM_VALIDATE_DATA = gparams['num_validate_data']\n",
    "BASIS_ORDER = gparams['basis_order']\n",
    "NUM_ELEMENT = gparams['ne']\n",
    "\n",
    "mesh=np.load(f'mesh/P{BASIS_ORDER}_ne{NUM_ELEMENT}_{TYPE}.npz')\n",
    "_, NUM_PTS, p, c = mesh['ne'], mesh['ng'], mesh['p'], mesh['c']\n",
    "NUM_BASIS = NUM_PTS"
   ]
  },
  {
   "cell_type": "code",
   "execution_count": 6,
   "id": "3334e63c",
   "metadata": {},
   "outputs": [],
   "source": [
    "models = {\n",
    "          'CNN1D': CNN1D,\n",
    "          'CNN2D': CNN2D,\n",
    "          }\n",
    "MODEL = models[gparams['model']]\n",
    "BLOCKS = int(gparams['blocks'])\n",
    "KERNEL_SIZE = int(gparams['ks'])\n",
    "FILTERS = int(gparams['filters'])\n",
    "PADDING = (KERNEL_SIZE - 1)//2\n",
    "ACT = gparams['act']\n",
    "if gparams['model']=='CNN2D':\n",
    "    RESOL_IN=gparams['resol_in']\n",
    "D_in = 1\n",
    "D_out = NUM_BASIS"
   ]
  },
  {
   "cell_type": "code",
   "execution_count": 7,
   "id": "5ed260d5",
   "metadata": {},
   "outputs": [
    {
     "name": "stdout",
     "output_type": "stream",
     "text": [
      "Num train : 1000, Num test: 1000\n"
     ]
    }
   ],
   "source": [
    "class Dataset(Dataset):\n",
    "    def __init__(self, mesh, kind='train', num_train=False):\n",
    "        self.kind=kind\n",
    "        self.num_train=num_train\n",
    "        pickle_file_load = f'{self.kind}_P{BASIS_ORDER}_{NUM_TRAIN_DATA}N{NUM_ELEMENT}_{TYPE}'\n",
    "        with open(f'data/{pickle_file_load}.pkl', 'rb') as f:\n",
    "            self.data = pickle.load(f)\n",
    "        self.input_matrix = mesh[f'{kind}_matrix']\n",
    "    def __getitem__(self, idx):\n",
    "        coeff_u = torch.FloatTensor(self.data[idx,0]).unsqueeze(0)\n",
    "        c_value = torch.FloatTensor(self.data[idx,1]).unsqueeze(0)\n",
    "        coeff_c = torch.FloatTensor(self.data[idx,2])\n",
    "        input_matrix = torch.FloatTensor(self.input_matrix[idx])\n",
    "        return {'coeff_u': coeff_u, 'c_value': c_value, 'coeff_c': coeff_c, 'input_matrix' : input_matrix}\n",
    "\n",
    "    def __len__(self):\n",
    "        if self.kind=='train':\n",
    "            return self.num_train\n",
    "        else:\n",
    "            return len(self.data)\n",
    "\n",
    "lg_dataset = Dataset(mesh, kind='train', num_train=NUM_TRAIN_DATA)\n",
    "trainloader = DataLoader(lg_dataset, batch_size=NUM_TRAIN_DATA, shuffle=False)\n",
    "lg_dataset = Dataset(mesh, kind='validate')\n",
    "validateloader = DataLoader(lg_dataset, batch_size=NUM_VALIDATE_DATA, shuffle=False)\n",
    "\n",
    "print(\"Num train : {}, Num test: {}\".format(len(trainloader.dataset), len(validateloader.dataset)))"
   ]
  },
  {
   "cell_type": "code",
   "execution_count": 8,
   "id": "b023f605",
   "metadata": {},
   "outputs": [
    {
     "data": {
      "text/plain": [
       "<All keys matched successfully>"
      ]
     },
     "execution_count": 8,
     "metadata": {},
     "output_type": "execute_result"
    }
   ],
   "source": [
    "if gparams['model']=='CNN2D':\n",
    "    model = MODEL(ACT, RESOL_IN, D_in, FILTERS, D_out, kernel_size=KERNEL_SIZE, padding=PADDING, blocks=BLOCKS)\n",
    "else:\n",
    "    model = MODEL(ACT, D_in, FILTERS, D_out, kernel_size=KERNEL_SIZE, padding=PADDING, blocks=BLOCKS)\n",
    "\n",
    "model.cuda()\n",
    "load_model = torch.load(os.path.join(PATH, \"model.pt\"))\n",
    "model.load_state_dict(load_model['model_state_dict'])"
   ]
  },
  {
   "cell_type": "code",
   "execution_count": 9,
   "id": "7a112641",
   "metadata": {},
   "outputs": [],
   "source": [
    "for validate_data in validateloader:\n",
    "    coeff_u = validate_data['coeff_u']\n",
    "    data_c = validate_data['c_value']\n",
    "    coeff_c = validate_data['coeff_c']"
   ]
  },
  {
   "cell_type": "code",
   "execution_count": 10,
   "id": "ce76aacd",
   "metadata": {},
   "outputs": [],
   "source": [
    "def rel_L2_error(pred, true):\n",
    "    return (torch.sum((true-pred)**2, axis=-1)/torch.sum((true)**2, axis=-1))**0.5"
   ]
  },
  {
   "cell_type": "code",
   "execution_count": 11,
   "id": "756f53ab",
   "metadata": {},
   "outputs": [
    {
     "name": "stdout",
     "output_type": "stream",
     "text": [
      "43\n",
      "Error:0.007043658755719662\n"
     ]
    },
    {
     "data": {
      "image/png": "[encoded data removed]",
      "text/plain": [
       "<Figure size 1300x350 with 2 Axes>"
      ]
     },
     "metadata": {},
     "output_type": "display_data"
    }
   ],
   "source": [
    "plot_idx=np.random.randint(1000)\n",
    "#plot_idx=67\n",
    "print(plot_idx)\n",
    "c = data_c[[plot_idx]].cuda()\n",
    "u = coeff_u[[plot_idx]].cuda()\n",
    "output_u=model(c)\n",
    "error=rel_L2_error(output_u.squeeze().detach(),u.squeeze())\n",
    "\n",
    "fig=plt.figure(figsize=(13,3.5))\n",
    "ax=plt.subplot(1,2,1)\n",
    "ax.set_title(r'Input $c(x)$',fontsize=15)\n",
    "ax.plot(p[p.argsort()],c.squeeze().cpu()[p.argsort()], c='b')\n",
    "ax.grid()\n",
    "ax.set_xlim(-1.1,1.1)\n",
    "ax.set_ylim(-6,6)\n",
    "ax.set_xlabel(r'$x$',fontsize=15)\n",
    "ax.set_ylabel(r'$c(x)$',fontsize=15)\n",
    "\n",
    "ax=plt.subplot(1,2,2)\n",
    "ax.set_title(r'$u(x)$ (Rel. $L^2$ error={0:.4f})'.format(error),fontsize=15)\n",
    "ax.plot(p[p.argsort()],u.squeeze().cpu()[p.argsort()], label='Truth', c='r', linewidth=3, linestyle='dashed')\n",
    "ax.plot(p[p.argsort()],output_u.squeeze().detach().cpu()[p.argsort()], label=r'Ours', c='b', marker='o', markersize=2.9, linewidth=0.5)\n",
    "ax.legend(fontsize=12)\n",
    "ax.grid()\n",
    "ax.set_xlim(-1.05,1.05)\n",
    "ax.set_ylim(-0.25,2.75)\n",
    "ax.set_xlabel(r'$x$',fontsize=15)\n",
    "ax.set_ylabel(r'$u(x)$',fontsize=15)\n",
    "\n",
    "print(\"Error:{}\".format(error))"
   ]
  }
 ],
 "metadata": {
  "kernelspec": {
   "display_name": "operator",
   "language": "python",
   "name": "python3"
  },
  "language_info": {
   "codemirror_mode": {
    "name": "ipython",
    "version": 3
   },
   "file_extension": ".py",
   "mimetype": "text/x-python",
   "name": "python",
   "nbconvert_exporter": "python",
   "pygments_lexer": "ipython3",
   "version": "3.12.4"
  }
 },
 "nbformat": 4,
 "nbformat_minor": 5
}
