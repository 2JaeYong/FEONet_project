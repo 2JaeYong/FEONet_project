{
 "cells": [
  {
   "cell_type": "code",
   "execution_count": 1,
   "id": "e1b6766b",
   "metadata": {},
   "outputs": [],
   "source": [
    "import os\n",
    "os.environ[\"PKG_CONFIG_PATH\"] = \"/home/jaeyonglee/anaconda3/envs/fenics/lib/pkgconfig\""
   ]
  },
  {
   "cell_type": "code",
   "execution_count": 2,
   "id": "e16e0bc8",
   "metadata": {
    "executionInfo": {
     "elapsed": 4542,
     "status": "ok",
     "timestamp": 1712026818659,
     "user": {
      "displayName": "이재용",
      "userId": "11888730461725400038"
     },
     "user_tz": -540
    },
    "id": "e16e0bc8",
    "scrolled": true
   },
   "outputs": [],
   "source": [
    "import numpy as np\n",
    "import scipy\n",
    "from scipy import io\n",
    "import matplotlib.pyplot as plt\n",
    "from mpl_toolkits.mplot3d import Axes3D\n",
    "from tqdm import tqdm\n",
    "import torch"
   ]
  },
  {
   "cell_type": "code",
   "execution_count": 3,
   "id": "PCIxfBEyw03M",
   "metadata": {
    "executionInfo": {
     "elapsed": 13,
     "status": "ok",
     "timestamp": 1712026818659,
     "user": {
      "displayName": "이재용",
      "userId": "11888730461725400038"
     },
     "user_tz": -540
    },
    "id": "PCIxfBEyw03M"
   },
   "outputs": [],
   "source": [
    "import dolfin\n",
    "from dolfin import *\n",
    "from mshr import *"
   ]
  },
  {
   "cell_type": "markdown",
   "id": "ab5baf74",
   "metadata": {},
   "source": [
    "### 1D Convection-diffusion equation with variable coefficient input"
   ]
  },
  {
   "cell_type": "markdown",
   "id": "8471374b",
   "metadata": {},
   "source": [
    "#### Learning the solution operator $\\mathcal{G}:c(x)\\mapsto u(x)$ for\n",
    "##### $-\\epsilon u_{xx}+b(x)u_x+c(x)u=f(x)$, $x\\in[-1,1]$,\n",
    "##### $u(x)=0$, $x\\in\\{-1,1\\}$\n",
    "##### with $\\epsilon=0.1$ and $b(x)=x^2+1$."
   ]
  },
  {
   "cell_type": "code",
   "execution_count": 4,
   "id": "464bbb7b",
   "metadata": {},
   "outputs": [
    {
     "name": "stdout",
     "output_type": "stream",
     "text": [
      "Setting num :32 // Num Element : 32\n"
     ]
    },
    {
     "data": {
      "image/png": "[encoded data removed]",
      "text/plain": [
       "<Figure size 640x480 with 1 Axes>"
      ]
     },
     "metadata": {},
     "output_type": "display_data"
    }
   ],
   "source": [
    "num_x=32\n",
    "mesh = IntervalMesh(num_x,-1,1)\n",
    "plot(mesh)\n",
    "print(\"Setting num :{} // Num Element : {}\".format(num_x, mesh.cells().shape[0]))"
   ]
  },
  {
   "cell_type": "code",
   "execution_count": 5,
   "id": "88f60753",
   "metadata": {},
   "outputs": [],
   "source": [
    "def fenics_mesh(num_x, num_input, deg_v, deg_f=5):\n",
    "  mesh = IntervalMesh(num_x,-1,1)\n",
    "  V = FunctionSpace(mesh, \"Lagrange\", deg_v)\n",
    "  bold_v = Expression('x[0]*x[0] +1', degree=deg_f)\n",
    "  bc = DirichletBC(V, 0, 'on_boundary')\n",
    "\n",
    "  u = TrialFunction(V)\n",
    "  v = TestFunction(V)\n",
    "\n",
    "  a = u.dx(0)*v.dx(0)*dx\n",
    "  A = PETScMatrix()\n",
    "  A = assemble(a)\n",
    "  bc.apply(A)\n",
    "  stiff = A.array()\n",
    "\n",
    "  c = (bold_v*u.dx(0))*v*dx\n",
    "  C = PETScMatrix()\n",
    "  C = assemble(c)\n",
    "  bc.apply(C)\n",
    "  convection = C.array()\n",
    "\n",
    "  f = Constant(1)\n",
    "  l = f*v*dx\n",
    "  L = assemble(l)\n",
    "  bc.apply(L)\n",
    "  load_vector = L.get_local()\n",
    "\n",
    "  train_coeff_inputs=[]\n",
    "  train_matrix=[]\n",
    "  np.random.seed(5)\n",
    "  for i in range(num_input[0]):\n",
    "    m0, m1 = 1 + 2*np.random.rand(2)\n",
    "    n0, n1= 2*np.pi*(np.random.rand(2))\n",
    "    input = Expression('m0*sin(n0*x[0]) + m1*cos(n1*x[0])', degree=deg_f, m0=m0,m1=m1,n0=n0,n1=n1)\n",
    "    lin = input*u*v*dx\n",
    "    LIN = assemble(lin)\n",
    "    bc.apply(LIN)\n",
    "    input_matrix = LIN.array()\n",
    "    train_coeff_inputs.append(np.array([m0, m1, n0, n1]))\n",
    "    train_matrix.append(input_matrix)\n",
    "\n",
    "  validate_coeff_inputs=[]\n",
    "  validate_matrix=[]\n",
    "  np.random.seed(10)\n",
    "  for i in range(num_input[1]):\n",
    "    m0, m1 = 1 + 2*np.random.rand(2)\n",
    "    n0, n1= 2*np.pi*(np.random.rand(2))\n",
    "    input = Expression('m0*sin(n0*x[0]) + m1*cos(n1*x[0])', degree=deg_f, m0=m0,m1=m1,n0=n0,n1=n1)\n",
    "    lin = input*u*v*dx\n",
    "    LIN = assemble(lin)\n",
    "    bc.apply(LIN)\n",
    "    input_matrix = LIN.array()\n",
    "    validate_coeff_inputs.append(np.array([m0, m1, n0, n1]))\n",
    "    validate_matrix.append(input_matrix)\n",
    "\n",
    "  ne=mesh.cells().shape[0]\n",
    "  dofmap = V.dofmap()\n",
    "  p = V.tabulate_dof_coordinates().reshape(-1)\n",
    "  ng = p.shape[0]\n",
    "\n",
    "  c=[]\n",
    "  for i in range(ne):\n",
    "    c.append(dofmap.cell_dofs(i))\n",
    "  c=np.asarray(c)\n",
    "\n",
    "  idx_bdry_pts=list(bc.get_boundary_values().keys())\n",
    "  idx_bdry_pts\n",
    "  \n",
    "  gfl = np.zeros((ng))\n",
    "  gfl[idx_bdry_pts]=1\n",
    "\n",
    "  print(\"Num of Elements : {}, Num of points : {}\".format(ne, ng))\n",
    "  return ne, ng, p, c, gfl, stiff, convection, load_vector, np.array(train_coeff_inputs), np.array(train_matrix), np.array(validate_coeff_inputs), np.array(validate_matrix)\n"
   ]
  },
  {
   "cell_type": "code",
   "execution_count": 6,
   "id": "0b67980e",
   "metadata": {},
   "outputs": [],
   "source": [
    "order=2\n",
    "list_ne=[32, 300]\n",
    "num_input=[1000, 1000]\n",
    "typ='varcoeff'"
   ]
  },
  {
   "cell_type": "code",
   "execution_count": 7,
   "id": "f4ca67c4",
   "metadata": {},
   "outputs": [
    {
     "name": "stdout",
     "output_type": "stream",
     "text": [
      "Num of Elements : 32, Num of points : 65\n",
      "Num of Elements : 300, Num of points : 601\n"
     ]
    }
   ],
   "source": [
    "for idx, ne in enumerate(list_ne):\n",
    "  ne, ng, p, c, gfl, stiff, convection, load_vector, train_coeff_inputs, train_matrix, validate_coeff_inputs, validate_matrix=fenics_mesh(ne, num_input, deg_v=order)\n",
    "  np.savez('mesh/P{}_ne{}_{}.npz'.format(order,list_ne[idx], typ),ne=ne,ng=ng,p=p,c=c,gfl=gfl,stiff=stiff,convection=convection,load_vector=load_vector,train_coeff_inputs=train_coeff_inputs, train_matrix=train_matrix, validate_coeff_inputs=validate_coeff_inputs, validate_matrix=validate_matrix)"
   ]
  },
  {
   "cell_type": "code",
   "execution_count": 8,
   "id": "bf59ef0e",
   "metadata": {},
   "outputs": [],
   "source": [
    "def fenics_data(num_x, num_input, deg_v, deg_f=5):\n",
    "  # Set solver parameters to suppress output\n",
    "  parameters[\"std_out_all_processes\"] = False  # Suppress output for parallel runs\n",
    "  set_log_level(LogLevel.ERROR)  # Suppress solver logs\n",
    "  \n",
    "  train_fenics_u=[]\n",
    "  np.random.seed(5)\n",
    "  for i in range(num_input[0]):\n",
    "    mesh = IntervalMesh(num_x,-1,1)\n",
    "    V = FunctionSpace(mesh, \"Lagrange\", deg_v)\n",
    "    EPS = Constant(0.1)\n",
    "    bold_v = Expression('x[0]*x[0] +1', degree=deg_f)\n",
    "    bc = DirichletBC(V, 0, 'on_boundary')\n",
    "\n",
    "    u = TrialFunction(V)\n",
    "    v = TestFunction(V)\n",
    "\n",
    "    a = u.dx(0)*v.dx(0)*dx\n",
    "    c = (bold_v*u.dx(0))*v*dx\n",
    "\n",
    "    m0, m1 = 1 + 2*np.random.rand(2)\n",
    "    n0, n1= 2*np.pi*(np.random.rand(2))\n",
    "    input = Expression('m0*sin(n0*x[0]) + m1*cos(n1*x[0])', degree=deg_f, m0=m0,m1=m1,n0=n0,n1=n1)\n",
    "    lin = input*u*v*dx\n",
    "\n",
    "    f = Constant(1)\n",
    "    l = f*v*dx\n",
    "\n",
    "    u = Function(V)\n",
    "    solve(EPS*a+c+lin == l, u, bc)\n",
    "    fenics_u = u.vector().get_local()\n",
    "\n",
    "    p = V.tabulate_dof_coordinates().reshape(-1)\n",
    "    train_fenics_u.append([fenics_u, m0*np.sin(n0*p) + m1*np.cos(n1*p), np.array([m0, m1, n0, n1])])\n",
    "\n",
    "  validate_fenics_u=[]\n",
    "  np.random.seed(10)\n",
    "  for i in range(num_input[1]):\n",
    "    mesh = IntervalMesh(num_x,-1,1)\n",
    "    V = FunctionSpace(mesh, \"Lagrange\", deg_v)\n",
    "    EPS = Constant(0.1)\n",
    "    bold_v = Expression('x[0]*x[0] +1', degree=deg_f)\n",
    "    bc = DirichletBC(V, 0, 'on_boundary')\n",
    "\n",
    "    u = TrialFunction(V)\n",
    "    v = TestFunction(V)\n",
    "\n",
    "    a = u.dx(0)*v.dx(0)*dx\n",
    "    c = (bold_v*u.dx(0))*v*dx\n",
    "\n",
    "    m0, m1 = 1 + 2*np.random.rand(2)\n",
    "    n0, n1= 2*np.pi*(np.random.rand(2))\n",
    "    input = Expression('m0*sin(n0*x[0]) + m1*cos(n1*x[0])', degree=deg_f, m0=m0,m1=m1,n0=n0,n1=n1)\n",
    "    lin = input*u*v*dx\n",
    "\n",
    "    f = Constant(1)\n",
    "    l = f*v*dx\n",
    "\n",
    "    u = Function(V)\n",
    "    solve(EPS*a+c+lin == l, u, bc)\n",
    "    fenics_u = u.vector().get_local()\n",
    "\n",
    "    p = V.tabulate_dof_coordinates().reshape(-1)\n",
    "    validate_fenics_u.append([fenics_u, m0*np.sin(n0*p) + m1*np.cos(n1*p), np.array([m0, m1, n0, n1])])\n",
    "\n",
    "  return np.array(train_fenics_u, dtype=object), np.array(validate_fenics_u, dtype=object)\n"
   ]
  },
  {
   "cell_type": "code",
   "execution_count": 9,
   "id": "9bc2b260",
   "metadata": {},
   "outputs": [],
   "source": [
    "order=2\n",
    "list_ne=[300]\n",
    "num_input=[1000, 1000]\n",
    "typ='varcoeff'"
   ]
  },
  {
   "cell_type": "code",
   "execution_count": 10,
   "id": "54a64e6f",
   "metadata": {},
   "outputs": [
    {
     "name": "stdout",
     "output_type": "stream",
     "text": [
      "Calling FFC just-in-time (JIT) compiler, this may take some time.\n",
      "Calling FFC just-in-time (JIT) compiler, this may take some time.\n"
     ]
    }
   ],
   "source": [
    "import pickle\n",
    "for idx, ne in enumerate(list_ne):\n",
    "  train_fenics_u,validate_fenics_u = fenics_data(ne, num_input, deg_v=order)\n",
    "  with open('data/train_P{}_{}N{}_{}.pkl'.format(order,num_input[0],list_ne[idx],typ), 'wb') as f:\n",
    "        pickle.dump(train_fenics_u, f, pickle.HIGHEST_PROTOCOL)\n",
    "  with open('data/validate_P{}_{}N{}_{}.pkl'.format(order,num_input[1],list_ne[idx],typ), 'wb') as f:\n",
    "        pickle.dump(validate_fenics_u, f, pickle.HIGHEST_PROTOCOL)"
   ]
  }
 ],
 "metadata": {
  "colab": {
   "provenance": [
    {
     "file_id": "14hcyB7qdFsqk8KYPj8wfBcmSclJW7qww",
     "timestamp": 1710412589815
    },
    {
     "file_id": "1ZicuUlWRavdrkoCAG3yMyYdkPHJwR3px",
     "timestamp": 1710161985590
    },
    {
     "file_id": "1s1NjTU9IsejXTQKOPEfSCLJbN5WzdlmN",
     "timestamp": 1680194315277
    }
   ]
  },
  "kernelspec": {
   "display_name": "fenics",
   "language": "python",
   "name": "python3"
  },
  "language_info": {
   "codemirror_mode": {
    "name": "ipython",
    "version": 3
   },
   "file_extension": ".py",
   "mimetype": "text/x-python",
   "name": "python",
   "nbconvert_exporter": "python",
   "pygments_lexer": "ipython3",
   "version": "3.11.9"
  }
 },
 "nbformat": 4,
 "nbformat_minor": 5
}
